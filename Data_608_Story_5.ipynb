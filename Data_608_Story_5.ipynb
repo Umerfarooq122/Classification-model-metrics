{
  "cells": [
    {
      "cell_type": "markdown",
      "metadata": {
        "id": "view-in-github",
        "colab_type": "text"
      },
      "source": [
        "<a href=\"https://colab.research.google.com/github/Umerfarooq122/Classification-model-metrics/blob/main/Data_608_Story_5.ipynb\" target=\"_parent\"><img src=\"https://colab.research.google.com/assets/colab-badge.svg\" alt=\"Open In Colab\"/></a>"
      ]
    },
    {
      "cell_type": "markdown",
      "metadata": {
        "id": "WTDViCg7_ZyP"
      },
      "source": [
        "# How Increased Temperatures Impact Storm Frequency and Intensity"
      ]
    },
    {
      "cell_type": "code",
      "execution_count": 1,
      "metadata": {
        "id": "ZPwuGprU_ZyR"
      },
      "outputs": [],
      "source": [
        "import pandas as pd\n",
        "import numpy as np\n",
        "import seaborn as sns\n",
        "import matplotlib.pyplot as plt\n",
        "import matplotlib.dates as dates"
      ]
    },
    {
      "cell_type": "markdown",
      "metadata": {
        "id": "BtabPUY__ZyS"
      },
      "source": [
        "## Temperature (Land, Ocean, Combined)"
      ]
    },
    {
      "cell_type": "markdown",
      "metadata": {
        "id": "Yf6l3jHL_ZyT"
      },
      "source": [
        "### Land Temperature"
      ]
    },
    {
      "cell_type": "code",
      "execution_count": 2,
      "metadata": {
        "colab": {
          "base_uri": "https://localhost:8080/",
          "height": 334
        },
        "id": "du_N5d7y_ZyT",
        "outputId": "6008e4b1-b95f-4632-c220-a1139100cd57"
      },
      "outputs": [
        {
          "output_type": "error",
          "ename": "FileNotFoundError",
          "evalue": "ignored",
          "traceback": [
            "\u001b[0;31m---------------------------------------------------------------------------\u001b[0m",
            "\u001b[0;31mFileNotFoundError\u001b[0m                         Traceback (most recent call last)",
            "\u001b[0;32m<ipython-input-2-b2d01fdf06f2>\u001b[0m in \u001b[0;36m<cell line: 1>\u001b[0;34m()\u001b[0m\n\u001b[0;32m----> 1\u001b[0;31m \u001b[0mland_temp\u001b[0m \u001b[0;34m=\u001b[0m \u001b[0mpd\u001b[0m\u001b[0;34m.\u001b[0m\u001b[0mread_excel\u001b[0m\u001b[0;34m(\u001b[0m\u001b[0;34m\"Land Temp Data.xlsx\"\u001b[0m\u001b[0;34m)\u001b[0m\u001b[0;34m\u001b[0m\u001b[0;34m\u001b[0m\u001b[0m\n\u001b[0m",
            "\u001b[0;32m/usr/local/lib/python3.10/dist-packages/pandas/util/_decorators.py\u001b[0m in \u001b[0;36mwrapper\u001b[0;34m(*args, **kwargs)\u001b[0m\n\u001b[1;32m    209\u001b[0m                 \u001b[0;32melse\u001b[0m\u001b[0;34m:\u001b[0m\u001b[0;34m\u001b[0m\u001b[0;34m\u001b[0m\u001b[0m\n\u001b[1;32m    210\u001b[0m                     \u001b[0mkwargs\u001b[0m\u001b[0;34m[\u001b[0m\u001b[0mnew_arg_name\u001b[0m\u001b[0;34m]\u001b[0m \u001b[0;34m=\u001b[0m \u001b[0mnew_arg_value\u001b[0m\u001b[0;34m\u001b[0m\u001b[0;34m\u001b[0m\u001b[0m\n\u001b[0;32m--> 211\u001b[0;31m             \u001b[0;32mreturn\u001b[0m \u001b[0mfunc\u001b[0m\u001b[0;34m(\u001b[0m\u001b[0;34m*\u001b[0m\u001b[0margs\u001b[0m\u001b[0;34m,\u001b[0m \u001b[0;34m**\u001b[0m\u001b[0mkwargs\u001b[0m\u001b[0;34m)\u001b[0m\u001b[0;34m\u001b[0m\u001b[0;34m\u001b[0m\u001b[0m\n\u001b[0m\u001b[1;32m    212\u001b[0m \u001b[0;34m\u001b[0m\u001b[0m\n\u001b[1;32m    213\u001b[0m         \u001b[0;32mreturn\u001b[0m \u001b[0mcast\u001b[0m\u001b[0;34m(\u001b[0m\u001b[0mF\u001b[0m\u001b[0;34m,\u001b[0m \u001b[0mwrapper\u001b[0m\u001b[0;34m)\u001b[0m\u001b[0;34m\u001b[0m\u001b[0;34m\u001b[0m\u001b[0m\n",
            "\u001b[0;32m/usr/local/lib/python3.10/dist-packages/pandas/util/_decorators.py\u001b[0m in \u001b[0;36mwrapper\u001b[0;34m(*args, **kwargs)\u001b[0m\n\u001b[1;32m    329\u001b[0m                     \u001b[0mstacklevel\u001b[0m\u001b[0;34m=\u001b[0m\u001b[0mfind_stack_level\u001b[0m\u001b[0;34m(\u001b[0m\u001b[0;34m)\u001b[0m\u001b[0;34m,\u001b[0m\u001b[0;34m\u001b[0m\u001b[0;34m\u001b[0m\u001b[0m\n\u001b[1;32m    330\u001b[0m                 )\n\u001b[0;32m--> 331\u001b[0;31m             \u001b[0;32mreturn\u001b[0m \u001b[0mfunc\u001b[0m\u001b[0;34m(\u001b[0m\u001b[0;34m*\u001b[0m\u001b[0margs\u001b[0m\u001b[0;34m,\u001b[0m \u001b[0;34m**\u001b[0m\u001b[0mkwargs\u001b[0m\u001b[0;34m)\u001b[0m\u001b[0;34m\u001b[0m\u001b[0;34m\u001b[0m\u001b[0m\n\u001b[0m\u001b[1;32m    332\u001b[0m \u001b[0;34m\u001b[0m\u001b[0m\n\u001b[1;32m    333\u001b[0m         \u001b[0;31m# error: \"Callable[[VarArg(Any), KwArg(Any)], Any]\" has no\u001b[0m\u001b[0;34m\u001b[0m\u001b[0;34m\u001b[0m\u001b[0m\n",
            "\u001b[0;32m/usr/local/lib/python3.10/dist-packages/pandas/io/excel/_base.py\u001b[0m in \u001b[0;36mread_excel\u001b[0;34m(io, sheet_name, header, names, index_col, usecols, squeeze, dtype, engine, converters, true_values, false_values, skiprows, nrows, na_values, keep_default_na, na_filter, verbose, parse_dates, date_parser, thousands, decimal, comment, skipfooter, convert_float, mangle_dupe_cols, storage_options)\u001b[0m\n\u001b[1;32m    480\u001b[0m     \u001b[0;32mif\u001b[0m \u001b[0;32mnot\u001b[0m \u001b[0misinstance\u001b[0m\u001b[0;34m(\u001b[0m\u001b[0mio\u001b[0m\u001b[0;34m,\u001b[0m \u001b[0mExcelFile\u001b[0m\u001b[0;34m)\u001b[0m\u001b[0;34m:\u001b[0m\u001b[0;34m\u001b[0m\u001b[0;34m\u001b[0m\u001b[0m\n\u001b[1;32m    481\u001b[0m         \u001b[0mshould_close\u001b[0m \u001b[0;34m=\u001b[0m \u001b[0;32mTrue\u001b[0m\u001b[0;34m\u001b[0m\u001b[0;34m\u001b[0m\u001b[0m\n\u001b[0;32m--> 482\u001b[0;31m         \u001b[0mio\u001b[0m \u001b[0;34m=\u001b[0m \u001b[0mExcelFile\u001b[0m\u001b[0;34m(\u001b[0m\u001b[0mio\u001b[0m\u001b[0;34m,\u001b[0m \u001b[0mstorage_options\u001b[0m\u001b[0;34m=\u001b[0m\u001b[0mstorage_options\u001b[0m\u001b[0;34m,\u001b[0m \u001b[0mengine\u001b[0m\u001b[0;34m=\u001b[0m\u001b[0mengine\u001b[0m\u001b[0;34m)\u001b[0m\u001b[0;34m\u001b[0m\u001b[0;34m\u001b[0m\u001b[0m\n\u001b[0m\u001b[1;32m    483\u001b[0m     \u001b[0;32melif\u001b[0m \u001b[0mengine\u001b[0m \u001b[0;32mand\u001b[0m \u001b[0mengine\u001b[0m \u001b[0;34m!=\u001b[0m \u001b[0mio\u001b[0m\u001b[0;34m.\u001b[0m\u001b[0mengine\u001b[0m\u001b[0;34m:\u001b[0m\u001b[0;34m\u001b[0m\u001b[0;34m\u001b[0m\u001b[0m\n\u001b[1;32m    484\u001b[0m         raise ValueError(\n",
            "\u001b[0;32m/usr/local/lib/python3.10/dist-packages/pandas/io/excel/_base.py\u001b[0m in \u001b[0;36m__init__\u001b[0;34m(self, path_or_buffer, engine, storage_options)\u001b[0m\n\u001b[1;32m   1650\u001b[0m                 \u001b[0mext\u001b[0m \u001b[0;34m=\u001b[0m \u001b[0;34m\"xls\"\u001b[0m\u001b[0;34m\u001b[0m\u001b[0;34m\u001b[0m\u001b[0m\n\u001b[1;32m   1651\u001b[0m             \u001b[0;32melse\u001b[0m\u001b[0;34m:\u001b[0m\u001b[0;34m\u001b[0m\u001b[0;34m\u001b[0m\u001b[0m\n\u001b[0;32m-> 1652\u001b[0;31m                 ext = inspect_excel_format(\n\u001b[0m\u001b[1;32m   1653\u001b[0m                     \u001b[0mcontent_or_path\u001b[0m\u001b[0;34m=\u001b[0m\u001b[0mpath_or_buffer\u001b[0m\u001b[0;34m,\u001b[0m \u001b[0mstorage_options\u001b[0m\u001b[0;34m=\u001b[0m\u001b[0mstorage_options\u001b[0m\u001b[0;34m\u001b[0m\u001b[0;34m\u001b[0m\u001b[0m\n\u001b[1;32m   1654\u001b[0m                 )\n",
            "\u001b[0;32m/usr/local/lib/python3.10/dist-packages/pandas/io/excel/_base.py\u001b[0m in \u001b[0;36minspect_excel_format\u001b[0;34m(content_or_path, storage_options)\u001b[0m\n\u001b[1;32m   1523\u001b[0m         \u001b[0mcontent_or_path\u001b[0m \u001b[0;34m=\u001b[0m \u001b[0mBytesIO\u001b[0m\u001b[0;34m(\u001b[0m\u001b[0mcontent_or_path\u001b[0m\u001b[0;34m)\u001b[0m\u001b[0;34m\u001b[0m\u001b[0;34m\u001b[0m\u001b[0m\n\u001b[1;32m   1524\u001b[0m \u001b[0;34m\u001b[0m\u001b[0m\n\u001b[0;32m-> 1525\u001b[0;31m     with get_handle(\n\u001b[0m\u001b[1;32m   1526\u001b[0m         \u001b[0mcontent_or_path\u001b[0m\u001b[0;34m,\u001b[0m \u001b[0;34m\"rb\"\u001b[0m\u001b[0;34m,\u001b[0m \u001b[0mstorage_options\u001b[0m\u001b[0;34m=\u001b[0m\u001b[0mstorage_options\u001b[0m\u001b[0;34m,\u001b[0m \u001b[0mis_text\u001b[0m\u001b[0;34m=\u001b[0m\u001b[0;32mFalse\u001b[0m\u001b[0;34m\u001b[0m\u001b[0;34m\u001b[0m\u001b[0m\n\u001b[1;32m   1527\u001b[0m     ) as handle:\n",
            "\u001b[0;32m/usr/local/lib/python3.10/dist-packages/pandas/io/common.py\u001b[0m in \u001b[0;36mget_handle\u001b[0;34m(path_or_buf, mode, encoding, compression, memory_map, is_text, errors, storage_options)\u001b[0m\n\u001b[1;32m    863\u001b[0m         \u001b[0;32melse\u001b[0m\u001b[0;34m:\u001b[0m\u001b[0;34m\u001b[0m\u001b[0;34m\u001b[0m\u001b[0m\n\u001b[1;32m    864\u001b[0m             \u001b[0;31m# Binary mode\u001b[0m\u001b[0;34m\u001b[0m\u001b[0;34m\u001b[0m\u001b[0m\n\u001b[0;32m--> 865\u001b[0;31m             \u001b[0mhandle\u001b[0m \u001b[0;34m=\u001b[0m \u001b[0mopen\u001b[0m\u001b[0;34m(\u001b[0m\u001b[0mhandle\u001b[0m\u001b[0;34m,\u001b[0m \u001b[0mioargs\u001b[0m\u001b[0;34m.\u001b[0m\u001b[0mmode\u001b[0m\u001b[0;34m)\u001b[0m\u001b[0;34m\u001b[0m\u001b[0;34m\u001b[0m\u001b[0m\n\u001b[0m\u001b[1;32m    866\u001b[0m         \u001b[0mhandles\u001b[0m\u001b[0;34m.\u001b[0m\u001b[0mappend\u001b[0m\u001b[0;34m(\u001b[0m\u001b[0mhandle\u001b[0m\u001b[0;34m)\u001b[0m\u001b[0;34m\u001b[0m\u001b[0;34m\u001b[0m\u001b[0m\n\u001b[1;32m    867\u001b[0m \u001b[0;34m\u001b[0m\u001b[0m\n",
            "\u001b[0;31mFileNotFoundError\u001b[0m: [Errno 2] No such file or directory: 'Land Temp Data.xlsx'"
          ]
        }
      ],
      "source": [
        "land_temp = pd.read_excel(\"Land Temp Data.xlsx\")"
      ]
    },
    {
      "cell_type": "code",
      "execution_count": null,
      "metadata": {
        "scrolled": true,
        "id": "lkTpax-Z_ZyT"
      },
      "outputs": [],
      "source": [
        "land_temp"
      ]
    },
    {
      "cell_type": "code",
      "execution_count": null,
      "metadata": {
        "id": "VUJWDC_r_ZyT"
      },
      "outputs": [],
      "source": [
        "land_temp['Year'] = pd.to_datetime(land_temp.Year, format='%Y')"
      ]
    },
    {
      "cell_type": "code",
      "execution_count": null,
      "metadata": {
        "id": "bY_r3Uy8_ZyU"
      },
      "outputs": [],
      "source": []
    },
    {
      "cell_type": "markdown",
      "metadata": {
        "id": "BkEDD_Gi_ZyU"
      },
      "source": [
        "### Ocean Temperature"
      ]
    },
    {
      "cell_type": "code",
      "execution_count": null,
      "metadata": {
        "id": "z109cryM_ZyU"
      },
      "outputs": [],
      "source": [
        "ocean_temp = pd.read_excel(\"Global Ocean Temperature.xlsx\")\n",
        "ocean_temp.rename(columns={\"Year (January-December)\": \"Year\",\n",
        "                           \"Temperature Anomaly (°C)\": \"Ocean_Temp_Anomaly\"}, inplace=True)"
      ]
    },
    {
      "cell_type": "code",
      "execution_count": null,
      "metadata": {
        "id": "zzKCFxVg_ZyU"
      },
      "outputs": [],
      "source": [
        "ocean_temp"
      ]
    },
    {
      "cell_type": "code",
      "execution_count": null,
      "metadata": {
        "id": "OUzSun15_ZyU"
      },
      "outputs": [],
      "source": []
    },
    {
      "cell_type": "code",
      "execution_count": null,
      "metadata": {
        "id": "RZ-i_Z9i_ZyV"
      },
      "outputs": [],
      "source": [
        "ocean_temp['Year'] = pd.to_datetime(ocean_temp.Year, format='%Y')"
      ]
    },
    {
      "cell_type": "code",
      "execution_count": null,
      "metadata": {
        "id": "ms3Gh_x8_ZyV"
      },
      "outputs": [],
      "source": []
    },
    {
      "cell_type": "markdown",
      "metadata": {
        "id": "QNtKFsbu_ZyV"
      },
      "source": [
        "### Land + Ocean Temperature"
      ]
    },
    {
      "cell_type": "code",
      "execution_count": null,
      "metadata": {
        "id": "tiTQXhB9_ZyV"
      },
      "outputs": [],
      "source": [
        "land_ocean_temp = pd.read_excel(\"Land Ocean Temp.xlsx\")"
      ]
    },
    {
      "cell_type": "code",
      "execution_count": null,
      "metadata": {
        "id": "x4ztBflc_ZyV"
      },
      "outputs": [],
      "source": [
        "land_ocean_temp"
      ]
    },
    {
      "cell_type": "code",
      "execution_count": null,
      "metadata": {
        "id": "V2ZSYw-D_ZyV"
      },
      "outputs": [],
      "source": [
        "land_ocean_temp['Year'] = pd.to_datetime(land_ocean_temp.Year, format='%Y')"
      ]
    },
    {
      "cell_type": "code",
      "execution_count": null,
      "metadata": {
        "id": "a3nfhSGX_ZyW"
      },
      "outputs": [],
      "source": [
        "temp_final = land_ocean_temp.merge(land_temp, how='left', on = 'Year')\n",
        "temp_final = temp_final.merge(ocean_temp, how = 'left', on = 'Year')"
      ]
    },
    {
      "cell_type": "code",
      "execution_count": null,
      "metadata": {
        "id": "Gj2nPUXV_ZyW"
      },
      "outputs": [],
      "source": [
        "temp_final"
      ]
    },
    {
      "cell_type": "code",
      "execution_count": null,
      "metadata": {
        "id": "W1omt2pT_ZyW"
      },
      "outputs": [],
      "source": [
        "fig, ax1 = plt.subplots(figsize=(12, 8))\n",
        "#ax2 = ax1.twinx()\n",
        "#sns.set_style(\"whitegrid\", {'grid.linestyle': '--'})\n",
        "ax1.plot(temp_final['Year'], temp_final['Land_Temp_Anomaly'], color='blue', lw=2, label = 'Land')\n",
        "ax1.plot(temp_final['Year'], temp_final['Land_Ocean_Anomaly'], color='red', lw=2, label = 'Land and Ocean')\n",
        "#ax2.plot(hurricane['Year'], hurricane['Named Storms'], color='green', lw=2, label = 'Named Storms')\n",
        "#ax2.plot(hurricane['Year'], hurricane['Hurricanes'], color='blue', alpha = 1,lw=2, label = 'Hurricanes')\n",
        "\n",
        "\n",
        "\n",
        "\n",
        "#ax2.plot(co2['Year'], co2['btons'], color='black',alpha = 1, lw=2, label = u'CO\\u2082 Emmision')\n",
        "plt.xticks(font = 'serif')\n",
        "\n",
        "x = temp_final['Year']\n",
        "x_num = dates.date2num(x)\n",
        "trend = np.polyfit(x_num, temp_final['Land_Ocean_Anomaly'], 1)\n",
        "fit = np.poly1d(trend)\n",
        "x_fit = np.linspace(x_num.min(), x_num.max())\n",
        "plt.plot(dates.num2date(x_fit), fit(x_fit), \"r--\", label = 'Land & Ocean \\nTemperature Trendline', lw = 2)\n",
        "\n",
        "ax1.plot(temp_final['Year'], temp_final['Ocean_Temp_Anomaly'], color='blue', lw=.5, label = 'Ocean')\n",
        "\n",
        "ax1.set_ylabel(\"Temperature Anomaly (°C)\", color='black', fontsize=12, fontdict={'font':'serif'})\n",
        "ax1.set_xlabel(\"Year\", color='black', fontsize=12, fontdict={'font':'serif'})\n",
        "ax1.tick_params(axis=\"y\", labelcolor='black', size = 14)\n",
        "ax1.set_ylim(0,2.1)\n",
        "#ax2.set_ylabel(\"Carbon Emmision (Billion Tons)\", color='black', fontsize=12, fontdict={'font':'serif'})\n",
        "#ax2.tick_params(axis=\"y\", labelcolor='black')\n",
        "#ax2.set_ylim(0,55)\n",
        "fig.suptitle(\"\", fontsize=20)\n",
        "#fig.autofmt_xdate()\n",
        "ax1.legend(bbox_to_anchor=(1.3,.47),loc='lower right',prop={'size':12,'family':'serif'}, frameon=False)\n",
        "#ax2.legend(bbox_to_anchor=(1.29,.4),loc='lower right',prop={'weight':'bold','size':10,'family':'serif'}, frameon=False)\n",
        "sns.despine(left= True, right = True)\n",
        "fig.suptitle(\"Land + Ocean Temperatures On The Rise For the Last 25 years\", fontsize=20, color=\"#000000\",font = 'serif', y=1)\n",
        "ax1.text(10000,2.25,\"Temperature Anomaly Is Change from 30-year Average \",\n",
        "        fontdict={ 'size':20,'family':'Helvetica'}, color=\"sienna\", alpha = 1)\n",
        "\n",
        "plt.savefig(\"Earth's Temperature Is On The Rise For last 25 years\")\n",
        "#files.download(\"Earth's Temperature Is On The Rise For last 25 years.png\")\n",
        "\n",
        "plt.show()"
      ]
    },
    {
      "cell_type": "code",
      "execution_count": null,
      "metadata": {
        "id": "2ErkDNjU_ZyW"
      },
      "outputs": [],
      "source": []
    },
    {
      "cell_type": "code",
      "execution_count": null,
      "metadata": {
        "id": "yMaPHB9w_ZyW"
      },
      "outputs": [],
      "source": []
    },
    {
      "cell_type": "code",
      "execution_count": null,
      "metadata": {
        "id": "OATSA7Pp_ZyX"
      },
      "outputs": [],
      "source": []
    },
    {
      "cell_type": "code",
      "execution_count": null,
      "metadata": {
        "id": "wAD3oxG9_ZyX"
      },
      "outputs": [],
      "source": []
    },
    {
      "cell_type": "code",
      "execution_count": null,
      "metadata": {
        "id": "d3MBembU_ZyX"
      },
      "outputs": [],
      "source": []
    },
    {
      "cell_type": "code",
      "execution_count": null,
      "metadata": {
        "id": "cl6m6iPQ_ZyX"
      },
      "outputs": [],
      "source": []
    },
    {
      "cell_type": "markdown",
      "metadata": {
        "id": "n7AaXKmE_ZyX"
      },
      "source": [
        "## Carbon Dioxide"
      ]
    },
    {
      "cell_type": "code",
      "execution_count": null,
      "metadata": {
        "id": "IhFxJit9_ZyX"
      },
      "outputs": [],
      "source": [
        "carbon_df = pd.read_excel(\"Carbon Dioxide Data.xlsx\")\n",
        "carbon_df"
      ]
    },
    {
      "cell_type": "code",
      "execution_count": null,
      "metadata": {
        "id": "tA6cE-rg_ZyX"
      },
      "outputs": [],
      "source": [
        "carbon_df2 = carbon_df.loc[carbon_df[\"year\"] > 1996]"
      ]
    },
    {
      "cell_type": "code",
      "execution_count": null,
      "metadata": {
        "id": "C5B7bBYb_ZyX"
      },
      "outputs": [],
      "source": [
        "carbon_df2['year'] = pd.to_datetime(carbon_df2.year, format='%Y')"
      ]
    },
    {
      "cell_type": "code",
      "execution_count": null,
      "metadata": {
        "id": "f9ygTzyX_ZyX"
      },
      "outputs": [],
      "source": []
    },
    {
      "cell_type": "code",
      "execution_count": null,
      "metadata": {
        "id": "hNpxW9K__ZyY"
      },
      "outputs": [],
      "source": []
    },
    {
      "cell_type": "code",
      "execution_count": null,
      "metadata": {
        "id": "2uePHxy3_ZyY"
      },
      "outputs": [],
      "source": []
    },
    {
      "cell_type": "code",
      "execution_count": null,
      "metadata": {
        "id": "i7PkoIfo_ZyY"
      },
      "outputs": [],
      "source": []
    },
    {
      "cell_type": "code",
      "execution_count": null,
      "metadata": {
        "id": "Cmeq2K1X_ZyY"
      },
      "outputs": [],
      "source": [
        "carbon_growth = pd.read_excel(\"CO2 Growth Rate.xlsx\")\n",
        "carbon_growth"
      ]
    },
    {
      "cell_type": "code",
      "execution_count": null,
      "metadata": {
        "id": "_Y8Ul4f-_ZyY"
      },
      "outputs": [],
      "source": [
        "carbon_growth2 = carbon_growth.loc[carbon_growth[\"year\"] > 1996]"
      ]
    },
    {
      "cell_type": "code",
      "execution_count": null,
      "metadata": {
        "id": "v_ljjTK5_ZyZ"
      },
      "outputs": [],
      "source": [
        "carbon_growth2['year'] = pd.to_datetime(carbon_growth2.year, format='%Y')"
      ]
    },
    {
      "cell_type": "code",
      "execution_count": null,
      "metadata": {
        "id": "5GtcSAnY_ZyZ"
      },
      "outputs": [],
      "source": [
        "billion_carbon = pd.read_excel(\"Carbon Emissions Billion Tons.xlsx\")"
      ]
    },
    {
      "cell_type": "code",
      "execution_count": null,
      "metadata": {
        "id": "gX7qQS6f_ZyZ"
      },
      "outputs": [],
      "source": [
        "billion_carbon"
      ]
    },
    {
      "cell_type": "code",
      "execution_count": null,
      "metadata": {
        "id": "hgBxzh50_ZyZ"
      },
      "outputs": [],
      "source": [
        "billion_carbon2 = billion_carbon.loc[billion_carbon[\"Year\"] > 1996]"
      ]
    },
    {
      "cell_type": "code",
      "execution_count": null,
      "metadata": {
        "id": "wbEYkHsp_Zya"
      },
      "outputs": [],
      "source": [
        "billion_carbon2['Year'] = pd.to_datetime(billion_carbon2.Year, format='%Y')"
      ]
    },
    {
      "cell_type": "code",
      "execution_count": null,
      "metadata": {
        "id": "-8zfDIfp_Zya"
      },
      "outputs": [],
      "source": [
        "billion_carbon2"
      ]
    },
    {
      "cell_type": "markdown",
      "metadata": {
        "id": "s0KZJ9UB_Zya"
      },
      "source": [
        "### Carbon Emissions In Billion Metric Tons"
      ]
    },
    {
      "cell_type": "code",
      "execution_count": null,
      "metadata": {
        "id": "2H_nQKWF_Zya"
      },
      "outputs": [],
      "source": [
        "fig, ax1 = plt.subplots(figsize=(10, 8))\n",
        "ax2 = ax1.twinx()\n",
        "#sns.set_style(\"whitegrid\", {'grid.linestyle': '--'})\n",
        "\n",
        "ax1.plot(temp_final['Year'], temp_final['Land_Ocean_Anomaly'], color='red', lw=2, label = 'Land & Ocean Temperature')\n",
        "#ax2.plot(hurricane['Year'], hurricane['Named Storms'], color='green', lw=2, label = 'Named Storms')\n",
        "#ax2.plot(hurricane['Year'], hurricane['Hurricanes'], color='blue', alpha = 1,lw=2, label = 'Hurricanes')\n",
        "\n",
        "\n",
        "\n",
        "ax2.plot(billion_carbon2['Year'], billion_carbon2['Carbon Emissions Billion Tons'], color='black',alpha = 1, lw=2, label = u'CO\\u2082 Emissions')\n",
        "plt.xticks(font = 'serif')\n",
        "'''\n",
        "x = billion_carbon2['Year']\n",
        "x_num = dates.date2num(x)\n",
        "trend = np.polyfit(x_num, billion_carbon2['Carbon Emissions Billion Metric Tons'], 1)\n",
        "fit = np.poly1d(trend)\n",
        "x_fit = np.linspace(x_num.min(), x_num.max())\n",
        "plt.plot(dates.num2date(x_fit), fit(x_fit), \"k--\", label = 'CO\\u2082 Emission Trendline')\n",
        "'''\n",
        "\n",
        "\n",
        "ax1.set_ylabel(\"Temperature Anomaly (Celsius °)\", color='red', fontsize=12, fontdict={'font':'serif'})\n",
        "ax1.tick_params(axis=\"y\", labelcolor='red', size = 12)\n",
        "ax1.set_ylim(0,1.1)\n",
        "ax2.set_ylabel(\"CO\\u2082 Emission (Billion Metric Tons)\", color='black', fontsize=12, fontdict={'font':'serif'})\n",
        "ax2.tick_params(axis=\"y\", labelcolor='black')\n",
        "ax2.set_ylim(0,55)\n",
        "fig.suptitle(\"\", fontsize=20)\n",
        "#fig.autofmt_xdate()\n",
        "ax1.legend(bbox_to_anchor=(1.41,.4),loc='lower right',prop={'size':10,'family':'serif'}, frameon=False)\n",
        "ax2.legend(bbox_to_anchor=(1.288,.432),loc='lower right',prop={'size':10,'family':'serif'}, frameon=False)\n",
        "sns.despine(left= True)\n",
        "fig.suptitle(\"CO\\u2082 Emissions Steadily Rising In Last 25 Years\", fontsize=16, font = 'serif', color=\"#000000\", y = .99)\n",
        "ax1.text(10000,1.17,\"Land + Ocean Temperature Outpacing Increase in CO\\u2082 Emissions since 2014\",\n",
        "        fontdict={ 'size':16,'family':'serif'}, color=\"mediumblue\", alpha = 1)\n",
        "\n",
        "plt.show()"
      ]
    },
    {
      "cell_type": "markdown",
      "metadata": {
        "id": "QOAoymwn_Zyb"
      },
      "source": [
        "### Annual Growth Rate of Carbon Emissions"
      ]
    },
    {
      "cell_type": "code",
      "execution_count": null,
      "metadata": {
        "id": "Pz-ftQHC_Zyb"
      },
      "outputs": [],
      "source": [
        "fig, ax1 = plt.subplots(figsize=(10, 8))\n",
        "ax2 = ax1.twinx()\n",
        "#sns.set_style(\"whitegrid\", {'grid.linestyle': '--'})\n",
        "\n",
        "ax1.plot(temp_final['Year'], temp_final['Land_Ocean_Anomaly'], color='red', lw=2, label = 'Ocean Temperature')\n",
        "#ax2.plot(hurricane['Year'], hurricane['Named Storms'], color='green', lw=2, label = 'Named Storms')\n",
        "#ax2.plot(hurricane['Year'], hurricane['Hurricanes'], color='blue', alpha = 1,lw=2, label = 'Hurricanes')\n",
        "\n",
        "\n",
        "\n",
        "ax2.plot(carbon_growth2['year'], carbon_growth2['Annual Growth PPM'], color='black',alpha = 1, lw=2, label = u'CO\\u2082 Emissions')\n",
        "plt.xticks(font = 'serif')\n",
        "'''\n",
        "x = carbon_growth2['Year']\n",
        "x_num = dates.date2num(x)\n",
        "trend = np.polyfit(x_num, carbon_growth2['Annual Growth PPM'], 1)\n",
        "fit = np.poly1d(trend)\n",
        "x_fit = np.linspace(x_num.min(), x_num.max())\n",
        "plt.plot(dates.num2date(x_fit), fit(x_fit), \"k--\", label = 'CO\\u2082 Emission Trendline')\n",
        "'''\n",
        "\n",
        "\n",
        "ax1.set_ylabel(\"Temperature Anomaly (Celsius °)\", color='red', fontsize=12, fontdict={'font':'serif'})\n",
        "ax1.tick_params(axis=\"y\", labelcolor='red', size = 12)\n",
        "ax1.set_ylim(0,1.2)\n",
        "ax2.set_ylabel(\"Annual CO\\u2082 Emissions (Parts Per Million)\", color='black', fontsize=12, fontdict={'font':'serif'})\n",
        "ax1.set_xlabel(\"Year\", color='black', fontsize=12, fontdict={'font':'serif'})\n",
        "ax2.tick_params(axis=\"y\", labelcolor='black')\n",
        "ax2.set_ylim(0,3)\n",
        "fig.suptitle(\"\", fontsize=20)\n",
        "#fig.autofmt_xdate()\n",
        "ax1.legend(bbox_to_anchor=(1.338,.4),loc='lower right',prop={'size':10,'family':'serif'}, frameon=False)\n",
        "ax2.legend(bbox_to_anchor=(1.288,.432),loc='lower right',prop={'size':10,'family':'serif'}, frameon=False)\n",
        "sns.despine(left= True)\n",
        "fig.suptitle(\"Annual Rate of CO\\u2082 Emissions Increasing with Rising Temperatures\", fontsize=16, font = 'serif', color=\"#000000\", y = 1)\n",
        "ax1.text(11000,1.3,\"Gradual Changes in Temperature Effects CO\\u2082 Emissions\",\n",
        "        fontdict={ 'size':14,'family':'serif'}, color=\"mediumblue\", alpha = 1)\n",
        "\n",
        "plt.show()"
      ]
    },
    {
      "cell_type": "code",
      "execution_count": null,
      "metadata": {
        "id": "C4v65f3n_Zyb"
      },
      "outputs": [],
      "source": []
    },
    {
      "cell_type": "code",
      "execution_count": null,
      "metadata": {
        "id": "sgYDKfVC_Zyb"
      },
      "outputs": [],
      "source": []
    },
    {
      "cell_type": "code",
      "execution_count": null,
      "metadata": {
        "id": "Ki0qL_-__Zyc"
      },
      "outputs": [],
      "source": []
    },
    {
      "cell_type": "code",
      "execution_count": null,
      "metadata": {
        "id": "m75aKg2s_Zyc"
      },
      "outputs": [],
      "source": []
    },
    {
      "cell_type": "markdown",
      "metadata": {
        "id": "O1vFtZST_Zyc"
      },
      "source": [
        "## Hurricanes"
      ]
    },
    {
      "cell_type": "code",
      "execution_count": null,
      "metadata": {
        "id": "_e4fFgOy_Zyc"
      },
      "outputs": [],
      "source": [
        "hurricanes_df = pd.read_csv(\"hurricanes data - Sheet1.csv\")\n",
        "hurricanes_df.rename(columns={\"Year ▾\": \"Year\"}, inplace=True)"
      ]
    },
    {
      "cell_type": "code",
      "execution_count": null,
      "metadata": {
        "scrolled": true,
        "id": "gpmhA7ED_Zyc"
      },
      "outputs": [],
      "source": [
        "hurricanes_df"
      ]
    },
    {
      "cell_type": "code",
      "execution_count": null,
      "metadata": {
        "id": "yVErx0ec_Zyc"
      },
      "outputs": [],
      "source": [
        "hurricanes_df = hurricanes_df.loc[hurricanes_df[\"Year\"] > 1996]"
      ]
    },
    {
      "cell_type": "code",
      "execution_count": null,
      "metadata": {
        "scrolled": true,
        "id": "fb-b-hHO_Zyc"
      },
      "outputs": [],
      "source": [
        "hurricanes_df['Year'] = pd.to_datetime(hurricanes_df.Year, format='%Y')"
      ]
    },
    {
      "cell_type": "markdown",
      "metadata": {
        "id": "TotVjTGi_Zyd"
      },
      "source": [
        "### Accumulated Cyclone Energy"
      ]
    },
    {
      "cell_type": "code",
      "execution_count": null,
      "metadata": {
        "id": "px-6BVxL_Zyd"
      },
      "outputs": [],
      "source": [
        "fig, ax1 = plt.subplots(figsize=(10, 8))\n",
        "ax2 = ax1.twinx()\n",
        "#sns.set_style(\"whitegrid\", {'grid.linestyle': '--'})\n",
        "\n",
        "ax1.plot(temp_final['Year'], temp_final['Ocean_Temp_Anomaly'], color='blueviolet', lw=2, label = 'Ocean Temperature')\n",
        "#ax2.plot(hurricane['Year'], hurricane['Named Storms'], color='green', lw=2, label = 'Named Storms')\n",
        "#ax2.plot(hurricane['Year'], hurricane['Hurricanes'], color='blue', alpha = 1,lw=2, label = 'Hurricanes')\n",
        "\n",
        "\n",
        "\n",
        "ax2.plot(hurricanes_df['Year'], hurricanes_df['Accumulated Cyclone Energy'], color='brown',alpha = 1, lw=2, label = 'ACE')\n",
        "plt.xticks(font = 'serif')\n",
        "\n",
        "x = hurricanes_df['Year']\n",
        "x_num = dates.date2num(x)\n",
        "trend = np.polyfit(x_num, hurricanes_df['Accumulated Cyclone Energy'], 1)\n",
        "fit = np.poly1d(trend)\n",
        "x_fit = np.linspace(x_num.min(), x_num.max())\n",
        "plt.plot(dates.num2date(x_fit), fit(x_fit), \"k--\", label = 'ACE Trendline')\n",
        "\n",
        "\n",
        "ax1.set_ylabel(\"Ocean Temperature Change(°C)\", color='blueviolet', fontsize=12, fontdict={'font':'serif'})\n",
        "ax1.tick_params(axis=\"y\", labelcolor='blueviolet', size = 12)\n",
        "ax1.set_ylim(0,1.1)\n",
        "ax2.set_ylabel(\"ACE\", color='brown', fontsize=12, fontdict={'font':'serif'})\n",
        "ax2.tick_params(axis=\"y\", labelcolor='brown')\n",
        "ax2.set_ylim(0,1100)\n",
        "fig.suptitle(\"\", fontsize=20)\n",
        "#fig.autofmt_xdate()\n",
        "ax1.legend(bbox_to_anchor=(1.35,.47),loc='lower right',prop={'weight':'bold','size':10,'family':'serif'}, frameon=False)\n",
        "ax2.legend(bbox_to_anchor=(1.3,.4),loc='lower right',prop={'weight':'bold','size':10,'family':'serif'}, frameon=False)\n",
        "sns.despine(bottom = False, left = False)\n",
        "fig.suptitle(\"Accumulated Cyclone Energy (ACE) and Ocean Temperature Over the Last 25 Years\", fontsize=16, font = 'serif', color=\"#000000\", y = 1.05)\n",
        "ax1.text(9900,1.25,\"Energy of Storms Increase at Times with Increase in Ocean Temperature\",\n",
        "       fontdict={ 'size':18,'family':'Helvetica'}, color=\"darkmagenta\", alpha = 1)\n",
        "plt.show()"
      ]
    },
    {
      "cell_type": "markdown",
      "metadata": {
        "id": "GQtJ9t8l_Zyd"
      },
      "source": [
        "### Category 3+ Hurricanes"
      ]
    },
    {
      "cell_type": "code",
      "execution_count": null,
      "metadata": {
        "id": "q7z3ZaBD_Zyd"
      },
      "outputs": [],
      "source": [
        "fig, ax1 = plt.subplots(figsize=(10, 8))\n",
        "ax2 = ax1.twinx()\n",
        "#sns.set_style(\"whitegrid\", {'grid.linestyle': '--'})\n",
        "\n",
        "ax1.plot(temp_final['Year'], temp_final['Ocean_Temp_Anomaly'], color='blueviolet', lw=2, label = 'Temperature')\n",
        "#ax2.plot(hurricane['Year'], hurricane['Named Storms'], color='green', lw=2, label = 'Named Storms')\n",
        "#ax2.plot(hurricane['Year'], hurricane['Hurricanes'], color='blue', alpha = 1,lw=2, label = 'Hurricanes')\n",
        "\n",
        "\n",
        "\n",
        "ax2.plot(hurricanes_df['Year'], hurricanes_df['Cat. 3+ Hurricanes'], color='brown',alpha = 1, lw=2, label = 'Cat 3 Hurricanes')\n",
        "plt.xticks(font = 'serif')\n",
        "\n",
        "x = hurricanes_df['Year']\n",
        "x_num = dates.date2num(x)\n",
        "trend = np.polyfit(x_num, hurricanes_df['Cat. 3+ Hurricanes'], 1)\n",
        "fit = np.poly1d(trend)\n",
        "x_fit = np.linspace(x_num.min(), x_num.max())\n",
        "plt.plot(dates.num2date(x_fit), fit(x_fit), \"k--\", label = 'Cat 3 Trendline')\n",
        "\n",
        "\n",
        "ax1.set_ylabel(\"Temperature Anomaly (Celsius °)\", color='blueviolet', fontsize=12, fontdict={'font':'serif'})\n",
        "ax1.tick_params(axis=\"y\", labelcolor='red', size = 12)\n",
        "ax1.set_ylim(0,1)\n",
        "ax2.set_ylabel(\"Number of Cat 3+ Hurricanes\", color='brown', fontsize=12, fontdict={'font':'serif'})\n",
        "ax2.tick_params(axis=\"y\", labelcolor='brown')\n",
        "ax2.set_ylim(0,50)\n",
        "fig.suptitle(\"\", fontsize=20)\n",
        "#fig.autofmt_xdate()\n",
        "ax1.legend(bbox_to_anchor=(1.36,.47),loc='lower right',prop={'weight':'bold','size':10,'family':'serif'}, frameon=False)\n",
        "ax2.legend(bbox_to_anchor=(1.4,.4),loc='lower right',prop={'weight':'bold','size':10,'family':'serif'}, frameon=False)\n",
        "sns.despine(bottom = False, left = False)\n",
        "fig.suptitle(\"Number of Category 3+ Hurricances and Ocean Temperatures\", fontsize=16, font = 'serif', color=\"#000000\",y = .99)\n",
        "ax1.text(9900,1.06,\"Ocean Temperature Change Impacts Strength of Hurricanes\",\n",
        "       fontdict={ 'size':18,'family':'Helvetica'}, color=\"darkmagenta\",alpha = 1)\n",
        "plt.show()"
      ]
    },
    {
      "cell_type": "code",
      "execution_count": null,
      "metadata": {
        "id": "yb-5MAvC_Zyd"
      },
      "outputs": [],
      "source": [
        "fig, ax1 = plt.subplots(figsize=(10, 8))\n",
        "ax2 = ax1.twinx()\n",
        "#sns.set_style(\"whitegrid\", {'grid.linestyle': '--'})\n",
        "\n",
        "ax1.plot(temp_final['Year'], temp_final['Ocean_Temp_Anomaly'], color='red', lw=.8, label = 'Ocean Temperature')\n",
        "#ax2.plot(hurricane['Year'], hurricane['Named Storms'], color='green', lw=2, label = 'Named Storms')\n",
        "#ax2.plot(hurricane['Year'], hurricane['Hurricanes'], color='blue', alpha = 1,lw=2, label = 'Hurricanes')\n",
        "\n",
        "\n",
        "\n",
        "ax2.plot(hurricanes_df['Year'], hurricanes_df['Cat. 3+ Hurricanes'], color='black',alpha = 1, lw=2, label = 'Category 3+ Hurricanes')\n",
        "plt.xticks(font = 'serif')\n",
        "\n",
        "x = hurricanes_df['Year']\n",
        "x_num = dates.date2num(x)\n",
        "trend = np.polyfit(x_num, hurricanes_df['Cat. 3+ Hurricanes'], 1)\n",
        "fit = np.poly1d(trend)\n",
        "x_fit = np.linspace(x_num.min(), x_num.max())\n",
        "plt.plot(dates.num2date(x_fit), fit(x_fit), \"k--\", label = 'Cat 3+ Hurricane Trendline')\n",
        "\n",
        "\n",
        "ax1.set_ylabel(\"Temperature Anomaly (Celsius °)\", color='red', fontsize=12, fontdict={'font':'serif'})\n",
        "ax1.tick_params(axis=\"y\", labelcolor='red', size = 12)\n",
        "ax1.set_ylim(0,1)\n",
        "ax2.set_ylabel(\"Number of Cat 3+ Hurricanes\", color='black', fontsize=12, fontdict={'font':'serif'})\n",
        "ax2.tick_params(axis=\"y\", labelcolor='black')\n",
        "ax2.set_ylim(0,50)\n",
        "fig.suptitle(\"\", fontsize=20)\n",
        "#fig.autofmt_xdate()\n",
        "ax1.legend(bbox_to_anchor=(1.345,.47),loc='lower right',prop={'weight':'bold','size':10,'family':'serif'}, frameon=False)\n",
        "ax2.legend(bbox_to_anchor=(1.43,.4),loc='lower right',prop={'weight':'bold','size':10,'family':'serif'}, frameon=False)\n",
        "sns.despine(bottom = False, left = False)\n",
        "fig.suptitle(\"Increase In The Number of Cat 3 + Hurricanes\", fontsize=16, font = 'serif', y = 1)\n",
        "ax1.text(9900,1.12,\"The number of named storms increases with the increment in temperature anomaly with a lag\",\n",
        "       # fontdict={ 'size':12,'family':'serif'}, alpha = .7)\n",
        "plt.show()"
      ]
    },
    {
      "cell_type": "code",
      "execution_count": null,
      "metadata": {
        "id": "-L2YWF7p_Zye"
      },
      "outputs": [],
      "source": []
    },
    {
      "cell_type": "markdown",
      "metadata": {
        "id": "UhrUrAM6_Zye"
      },
      "source": [
        "### Number of Total Hurricanes"
      ]
    },
    {
      "cell_type": "code",
      "execution_count": null,
      "metadata": {
        "id": "I5FspyLB_Zye"
      },
      "outputs": [],
      "source": [
        "fig, ax1 = plt.subplots(figsize=(10, 8))\n",
        "ax2 = ax1.twinx()\n",
        "#sns.set_style(\"whitegrid\", {'grid.linestyle': '--'})\n",
        "\n",
        "ax1.plot(temp_final['Year'], temp_final['Ocean_Temp_Anomaly'], color='red', lw=2, label = 'Ocean Temperature')\n",
        "#ax2.plot(hurricane['Year'], hurricane['Named Storms'], color='green', lw=2, label = 'Named Storms')\n",
        "ax2.plot(hurricanes_df['Year'], hurricanes_df['Hurricanes'], color='blue', alpha = 1,lw=2, label = 'Hurricanes')\n",
        "x = hurricanes_df['Year']\n",
        "x_num = dates.date2num(x)\n",
        "trend = np.polyfit(x_num, hurricanes_df['Hurricanes'], 1)\n",
        "fit = np.poly1d(trend)\n",
        "x_fit = np.linspace(x_num.min(), x_num.max())\n",
        "plt.plot(dates.num2date(x_fit), fit(x_fit), \"b--\", label = 'Hurricane Trendline')\n",
        "\n",
        "\n",
        "#ax2.plot(hurricane['Year'], hurricane['Cat. 3+ Hurricanes'], color='black',alpha = .3, lw=1, label = 'Category 3+ Hurricanes')\n",
        "plt.xticks(font = 'serif')\n",
        "\n",
        "\n",
        "\n",
        "ax1.set_ylabel(\"Temperature Anomaly (Celsius °)\", color='red', fontsize=12, fontdict={'font':'serif'})\n",
        "ax1.tick_params(axis=\"y\", labelcolor='red', size = 12)\n",
        "ax1.set_ylim(0,1.25)\n",
        "ax2.set_ylabel(\"Number of Hurricanes\", color='blue', fontsize=12, fontdict={'font':'serif'})\n",
        "ax2.tick_params(axis=\"y\", labelcolor='blue')\n",
        "ax2.set_ylim(0,62.5)\n",
        "fig.suptitle(\"\", fontsize=20)\n",
        "#fig.autofmt_xdate()\n",
        "ax1.legend(bbox_to_anchor=(1.347,.435),loc='lower right',prop={'weight':'bold','size':10,'family':'serif'}, frameon=False)\n",
        "ax2.legend(bbox_to_anchor=(1.355,.47),loc='lower right',prop={'weight':'bold','size':10,'family':'serif'}, frameon=False)\n",
        "sns.despine(bottom = False, left = False)\n",
        "fig.suptitle(\"Number Of Hurricanes and Ocean Temperature \", fontsize=16, font = 'serif', color=\"#000000\", y = .97)\n",
        "ax1.text(9900,1.3,\"Frequency of Hurricanes are Increasingly Connected with Ocean Temperature\",\n",
        "        fontdict={ 'size':18,'family':'Helvetica'}, color=\"darkmagenta\", alpha = 1)\n",
        "plt.show()"
      ]
    },
    {
      "cell_type": "markdown",
      "metadata": {
        "id": "QbRHKgoO_Zye"
      },
      "source": [
        "### Named Storms"
      ]
    },
    {
      "cell_type": "code",
      "execution_count": null,
      "metadata": {
        "id": "jWtC5cki_Zye"
      },
      "outputs": [],
      "source": [
        "cause1 = ocean_temp.loc[ocean_temp['Year']>='2000-01-01' ]\n",
        "cause1 = cause1.loc[ocean_temp['Year']<='2004-01-01']\n",
        "cause2 = ocean_temp.loc[ocean_temp['Year']>='2010-01-01' ]\n",
        "cause2 = cause2.loc[cause2['Year']<='2012-01-01']\n",
        "\n",
        "effect1 = hurricanes_df.loc[hurricanes_df['Year']>='2002-01-01' ]\n",
        "effect1 = effect1.loc[effect1['Year']<='2005-01-01' ]\n",
        "effect2 = hurricanes_df.loc[hurricanes_df['Year']>='2012-01-01' ]\n",
        "effect2 = effect2.loc[effect2['Year']<='2014-01-01' ]"
      ]
    },
    {
      "cell_type": "code",
      "execution_count": null,
      "metadata": {
        "id": "1POEtEw7_Zye"
      },
      "outputs": [],
      "source": []
    },
    {
      "cell_type": "code",
      "execution_count": null,
      "metadata": {
        "id": "7TrshVM__Zye"
      },
      "outputs": [],
      "source": [
        "fig, ax1 = plt.subplots(figsize=(10, 8))\n",
        "ax2 = ax1.twinx()\n",
        "sns.set_style(\"whitegrid\", {'grid.linestyle': '--'})\n",
        "\n",
        "\n",
        "ax2.plot(hurricanes_df['Year'], hurricanes_df['Named Storms'], color='#377eb8', alpha = .5, lw=3, label = 'Named Storms')\n",
        "ax2.plot(effect1['Year'], effect1['Named Storms'], color='#377eb8', alpha = 1, lw=2)\n",
        "ax2.plot(effect2['Year'], effect2['Named Storms'], color='#377eb8', alpha = 1, lw=2)\n",
        "'''\n",
        "x = hurricanes_df['Year']\n",
        "x_num = dates.date2num(x)\n",
        "trend = np.polyfit(x_num, hurricanes_df['Named Storms'], 1)\n",
        "fit = np.poly1d(trend)\n",
        "x_fit = np.linspace(x_num.min(), x_num.max())\n",
        "plt.plot(dates.num2date(x_fit), fit(x_fit), \"g--\", label = 'Named Storms Trendline', lw = 2)\n",
        "'''\n",
        "#ax2.plot(hurricane['Year'], hurricane['Hurricanes'], color='blue', alpha = .3,lw=1, label = 'Hurricanes')\n",
        "ax1.plot(ocean_temp['Year'], ocean_temp['Ocean_Temp_Anomaly'], color='#a65628', lw=2, alpha = .5, label = 'Ocean Temperature')\n",
        "ax1.plot(cause1['Year'], cause1['Ocean_Temp_Anomaly'], color='#a65628', lw=2)\n",
        "ax1.plot(cause2['Year'], cause2['Ocean_Temp_Anomaly'], color='#a65628', lw=2)\n",
        "#ax2.plot(hurricane['Year'], hurricane['Cat. 3+ Hurricanes'], color='black',alpha = .3, lw=1, label = 'Category 3+ Hurricanes')\n",
        "plt.xticks(font = 'serif')\n",
        "\n",
        "\n",
        "\n",
        "ax1.set_ylabel(\"Temperature Anomaly (Celsius °)\", color='#a65628', fontsize=12, fontdict={'font':'serif'})\n",
        "ax1.tick_params(axis=\"y\", labelcolor='#a65628', size = 8)\n",
        "ax1.set_ylim(0,1.1)\n",
        "ax2.set_ylabel(\"Number of Named Storms\", color='#377eb8', fontsize=12, fontdict={'font':'serif'})\n",
        "ax2.tick_params(axis=\"y\", labelcolor='#377eb8')\n",
        "ax2.set_ylim(0,110)\n",
        "\n",
        "#fig.autofmt_xdate()\n",
        "\n",
        "ax2.legend(bbox_to_anchor=(1.3,.505),loc='lower right',prop={'weight':'bold','size':10,'family':'serif'}, frameon=False)\n",
        "ax1.legend(bbox_to_anchor=(1.35,.47),loc='lower right',prop={'weight':'bold','size':10,'family':'serif'}, frameon=False)\n",
        "sns.despine(bottom = False, left = False)\n",
        "fig.suptitle(\"Number Of Named Storms and Ocean Temperature\", fontsize=16, font = 'serif', y = .98)\n",
        "ax1.text(9900,1.16,\"There's a Lag Between Temperature Rise and Increase in Named Storms\",\n",
        "       fontdict={ 'size':17,'family':'Helvetica', 'color':'indigo'})\n",
        "ax1.text(11100,.46,\"Cause 1\",fontdict={ 'size':10,'family':'serif', 'color':'red'}, rotation=60, size=9)\n",
        "ax1.text(11700,.86,\"Effect 1\",fontdict={ 'size':10,'family':'serif', 'color':'green'}, rotation=30, size=9)\n",
        "ax1.text(14800,.5,\"Cause 2\",fontdict={ 'size':10,'family':'serif', 'color':'red'}, rotation=285, size=9)\n",
        "ax1.text(15500,.92,\"Effect 2\",fontdict={ 'size':10,'family':'serif', 'color':'green'}, rotation=0, size=9)\n",
        "\n",
        "\n",
        "\n",
        "plt.show()"
      ]
    },
    {
      "cell_type": "code",
      "execution_count": null,
      "metadata": {
        "id": "fPG7gz7Q_Zye"
      },
      "outputs": [],
      "source": []
    },
    {
      "cell_type": "code",
      "execution_count": null,
      "metadata": {
        "id": "EJ5RMwo-_Zye"
      },
      "outputs": [],
      "source": []
    },
    {
      "cell_type": "code",
      "execution_count": null,
      "metadata": {
        "id": "EpmXi3Px_Zye"
      },
      "outputs": [],
      "source": []
    },
    {
      "cell_type": "code",
      "execution_count": null,
      "metadata": {
        "id": "GQXFKfT6_Zye"
      },
      "outputs": [],
      "source": []
    },
    {
      "cell_type": "code",
      "execution_count": null,
      "metadata": {
        "id": "x-6gnwLh_Zye"
      },
      "outputs": [],
      "source": []
    },
    {
      "cell_type": "code",
      "execution_count": null,
      "metadata": {
        "id": "KhgTIETa_Zyf"
      },
      "outputs": [],
      "source": []
    },
    {
      "cell_type": "markdown",
      "metadata": {
        "id": "YLE4kc59_Zyf"
      },
      "source": []
    },
    {
      "cell_type": "code",
      "execution_count": null,
      "metadata": {
        "id": "IPi0wuOW_Zyf"
      },
      "outputs": [],
      "source": []
    },
    {
      "cell_type": "code",
      "execution_count": null,
      "metadata": {
        "id": "pbbsCyJk_Zyf"
      },
      "outputs": [],
      "source": []
    },
    {
      "cell_type": "markdown",
      "metadata": {
        "id": "RtXjDzJ7_Zyf"
      },
      "source": [
        "## Antarctic and Greenland Ice Mass"
      ]
    },
    {
      "cell_type": "code",
      "execution_count": null,
      "metadata": {
        "id": "snvb6WpY_Zyf"
      },
      "outputs": [],
      "source": [
        "glacier_df = pd.read_excel(\"greenland-and-antarctica-ice-sheet-mass-copy.xlsx\")"
      ]
    },
    {
      "cell_type": "code",
      "execution_count": null,
      "metadata": {
        "id": "V0jJRm4Q_Zyf"
      },
      "outputs": [],
      "source": [
        "glacier_df.rename(columns={\"Greenland Ice Mass Variation (Gt)\": \"Greenland_Ice_Mass_Variation\",\n",
        "                  \"Antartica Ice Mass Variation (Gt)\": \"Antartica_Ice_Mass_Variation\"},inplace=True)"
      ]
    },
    {
      "cell_type": "code",
      "execution_count": null,
      "metadata": {
        "id": "HhXm-xVi_Zyf"
      },
      "outputs": [],
      "source": [
        "glacier_df.rename(columns={\"Antartica  Ice Mass Variation (Gt)\": \"Antartica_Ice_Mass_Variation\"},inplace=True)"
      ]
    },
    {
      "cell_type": "code",
      "execution_count": null,
      "metadata": {
        "id": "KJs9mEW8_Zyf"
      },
      "outputs": [],
      "source": [
        "glacier_df['Year'] = pd.to_datetime(glacier_df.Year, format='%Y')"
      ]
    },
    {
      "cell_type": "code",
      "execution_count": null,
      "metadata": {
        "id": "-O0QmeKI_Zyf"
      },
      "outputs": [],
      "source": [
        "glacier_df"
      ]
    },
    {
      "cell_type": "code",
      "execution_count": null,
      "metadata": {
        "id": "iGU-uRF__Zyf"
      },
      "outputs": [],
      "source": [
        "temp_final2 = temp_final.loc[temp_final[\"Year\"] > \"2001-01-01\"]"
      ]
    },
    {
      "cell_type": "code",
      "execution_count": null,
      "metadata": {
        "id": "IRUBIU-3_Zyf"
      },
      "outputs": [],
      "source": []
    },
    {
      "cell_type": "code",
      "execution_count": null,
      "metadata": {
        "id": "rQNtIGqZ_Zyf"
      },
      "outputs": [],
      "source": []
    },
    {
      "cell_type": "code",
      "execution_count": null,
      "metadata": {
        "id": "b6tQhkyz_Zyf"
      },
      "outputs": [],
      "source": [
        "fig, ax1 = plt.subplots(figsize=(10, 8))\n",
        "ax2 = ax1.twinx()\n",
        "#sns.set_style(\"whitegrid\", {'grid.linestyle': '--'})\n",
        "\n",
        "\n",
        "#ax2.plot(hurricane['Year'], hurricane['Named Storms'], color='green', lw=2, label = 'Named Storms')\n",
        "ax2.plot(glacier_df['Year'], glacier_df[\"Antartica_Ice_Mass_Variation\"], color='blue', alpha = 1,lw=1, label = 'Antarctic')\n",
        "\n",
        "\n",
        "x = glacier_df['Year']\n",
        "x_num = dates.date2num(x)\n",
        "trend = np.polyfit(x_num, glacier_df['Antartica_Ice_Mass_Variation'], 1)\n",
        "fit = np.poly1d(trend)\n",
        "x_fit = np.linspace(x_num.min(), x_num.max())\n",
        "plt.plot(dates.num2date(x_fit), fit(x_fit), \"b--\", label = 'Antarctic Trendline')\n",
        "\n",
        "ax2.plot(glacier_df['Year'], glacier_df['Greenland_Ice_Mass_Variation'], color='black', lw=1, label = 'Greenland')\n",
        "\n",
        "x = glacier_df['Year']\n",
        "x_num = dates.date2num(x)\n",
        "trend = np.polyfit(x_num, glacier_df['Greenland_Ice_Mass_Variation'], 1)\n",
        "fit = np.poly1d(trend)\n",
        "x_fit = np.linspace(x_num.min(), x_num.max())\n",
        "plt.plot(dates.num2date(x_fit), fit(x_fit), \"k--\", label = 'Greenland Trendline')\n",
        "\n",
        "ax1.plot(temp_final2['Year'], temp_final2['Land_Ocean_Anomaly'], color='red',alpha = .7, lw=1, label = 'Land & Ocean Temperature')\n",
        "plt.xticks(font = 'serif')\n",
        "\n",
        "a = temp_final2['Year']\n",
        "a_num = dates.date2num(a)\n",
        "trend = np.polyfit(a_num, temp_final2['Land_Ocean_Anomaly'], 1)\n",
        "fit = np.poly1d(trend)\n",
        "x_fit = np.linspace(a_num.min(), a_num.max())\n",
        "#plt.plot(dates.num2date(x_fit), fit(x_fit), \"r--\", label = 'Temperature Trendline')\n",
        "\n",
        "ax1.set_ylabel(\"Temperature Anamoly\", color='red', fontsize=12, fontdict={'font':'serif'})\n",
        "ax1.tick_params(axis=\"y\", labelcolor='red', size = 12)\n",
        "ax1.set_ylim(0,1.1)\n",
        "#ax1.set_xlim(11000,20000)\n",
        "ax2.set_ylabel(\"GigaTons\", color='blue', fontsize=12, fontdict={'font':'serif'})\n",
        "ax2.tick_params(axis=\"y\", labelcolor='blue')\n",
        "ax2.set_ylim(0,-5500)\n",
        "fig.suptitle(\"\", fontsize=20)\n",
        "#fig.autofmt_xdate()\n",
        "ax1.legend(bbox_to_anchor=(1.5,.435),loc='lower right',prop={'weight':'bold','size':10,'family':'serif'}, frameon=False)\n",
        "ax2.legend(bbox_to_anchor=(1.5,.47),loc='lower right',prop={'weight':'bold','size':10,'family':'serif'}, frameon=False)\n",
        "sns.despine(bottom = False, left = False)\n",
        "fig.suptitle(\"Size of Glaciers Are Rapidly Decreasing Since 2002\", fontsize=16, font = 'serif', color='#000000',y = .96)\n",
        "ax2.text(12000,-5600,\"Greenland's Glaciers Have Melted at a Higher Rate than Antartica's Glaciers\",\n",
        "        fontdict={ 'size':18,'family':'Helvetica'}, color=\"#D55E00\", alpha = 1)\n",
        "ax2.text(15800,-1000,\"Approx 146 GigaTons/year\",\n",
        "      fontdict={ 'size':12,'family':'serif'}, alpha = .7, color= 'blue')\n",
        "ax2.text(16800,-3500,\"Approx 270 GigaTons/year\",\n",
        "        fontdict={ 'size':12,'family':'serif'}, alpha = .7, color = 'black')\n",
        "plt.show()"
      ]
    },
    {
      "cell_type": "code",
      "execution_count": null,
      "metadata": {
        "id": "qHmXIWXv_Zyg"
      },
      "outputs": [],
      "source": []
    },
    {
      "cell_type": "markdown",
      "metadata": {
        "id": "5ettFD8K_Zyg"
      },
      "source": [
        "## Sea Level"
      ]
    },
    {
      "cell_type": "code",
      "execution_count": null,
      "metadata": {
        "id": "5VKcGVdE_Zyg"
      },
      "outputs": [],
      "source": [
        "sea_level = pd.read_excel(\"Global Sea Level Dataset.xlsx\")"
      ]
    },
    {
      "cell_type": "code",
      "execution_count": null,
      "metadata": {
        "id": "Bs2ZBzrN_Zyg"
      },
      "outputs": [],
      "source": [
        "sea_level = sea_level.drop([\"Unnamed: 2\", \"Unnamed: 3\"], axis=1)"
      ]
    },
    {
      "cell_type": "code",
      "execution_count": null,
      "metadata": {
        "id": "vMJMQuBm_Zyg"
      },
      "outputs": [],
      "source": [
        "sea_level2 = sea_level[:-1]"
      ]
    },
    {
      "cell_type": "code",
      "execution_count": null,
      "metadata": {
        "id": "2wBinjAp_Zyg"
      },
      "outputs": [],
      "source": [
        "sea_level2 = sea_level2.rename({\"Global Mean Sea Level Variation since 1993 (mm)\": \"GMSL Variation\"})"
      ]
    },
    {
      "cell_type": "code",
      "execution_count": null,
      "metadata": {
        "id": "V7esesu3_Zyg"
      },
      "outputs": [],
      "source": [
        "sea_level2.info()"
      ]
    },
    {
      "cell_type": "code",
      "execution_count": null,
      "metadata": {
        "id": "kKVC8UAD_Zyg"
      },
      "outputs": [],
      "source": [
        "sea_level2['Date'] = pd.to_datetime(sea_level2.Date, format='%Y')"
      ]
    },
    {
      "cell_type": "code",
      "execution_count": null,
      "metadata": {
        "id": "s2MVRG6l_Zyg"
      },
      "outputs": [],
      "source": [
        "sea_level2 = sea_level2.loc[sea_level2[\"Date\"] > \"2001-01-01\"]"
      ]
    },
    {
      "cell_type": "code",
      "execution_count": null,
      "metadata": {
        "id": "cgS0rDzo_Zyg"
      },
      "outputs": [],
      "source": [
        "sea_level2"
      ]
    },
    {
      "cell_type": "code",
      "execution_count": null,
      "metadata": {
        "id": "wQ1EAEN-_Zyg"
      },
      "outputs": [],
      "source": []
    },
    {
      "cell_type": "code",
      "execution_count": null,
      "metadata": {
        "id": "WGG9PWhA_Zyg"
      },
      "outputs": [],
      "source": [
        "fig, ax1 = plt.subplots(figsize=(10, 8))\n",
        "ax2 = ax1.twinx()\n",
        "#sns.set_style(\"whitegrid\", {'grid.linestyle': '--'})\n",
        "\n",
        "\n",
        "#ax2.plot(hurricane['Year'], hurricane['Named Storms'], color='green', lw=2, label = 'Named Storms')\n",
        "ax2.plot(glacier_df['Year'], glacier_df[\"Antartica_Ice_Mass_Variation\"], color='blue', alpha = 1,lw=1, label = 'Antarctic')\n",
        "\n",
        "\n",
        "x = glacier_df['Year']\n",
        "x_num = dates.date2num(x)\n",
        "trend = np.polyfit(x_num, glacier_df['Antartica_Ice_Mass_Variation'], 1)\n",
        "fit = np.poly1d(trend)\n",
        "x_fit = np.linspace(x_num.min(), x_num.max())\n",
        "plt.plot(dates.num2date(x_fit), fit(x_fit), \"b--\", label = 'Antarctic Trendline')\n",
        "\n",
        "ax2.plot(glacier_df['Year'], glacier_df['Greenland_Ice_Mass_Variation'], color='black', lw=1, label = 'Greenland')\n",
        "\n",
        "x = glacier_df['Year']\n",
        "x_num = dates.date2num(x)\n",
        "trend = np.polyfit(x_num, glacier_df['Greenland_Ice_Mass_Variation'], 1)\n",
        "fit = np.poly1d(trend)\n",
        "x_fit = np.linspace(x_num.min(), x_num.max())\n",
        "plt.plot(dates.num2date(x_fit), fit(x_fit), \"k--\", label = 'Greenland Trendline')\n",
        "\n",
        "ax1.plot(sea_level2['Date'], sea_level2['Global Mean Sea Level Variation since 1993 (mm)'], color='red',alpha = 1, lw=1, label = 'Global Mean Sea Level')\n",
        "plt.xticks(font = 'serif')\n",
        "\n",
        "a = sea_level2['Date']\n",
        "a_num = dates.date2num(a)\n",
        "trend = np.polyfit(a_num, sea_level2['Global Mean Sea Level Variation since 1993 (mm)'], 1)\n",
        "fit = np.poly1d(trend)\n",
        "x_fit = np.linspace(a_num.min(), a_num.max())\n",
        "#plt.plot(dates.num2date(x_fit), fit(x_fit), \"r--\", label = 'Temperature Trendline')\n",
        "\n",
        "ax1.set_ylabel(\"Temperature Anamoly\", color='red', fontsize=12, fontdict={'font':'serif'})\n",
        "ax1.tick_params(axis=\"y\", labelcolor='red', size = 12)\n",
        "ax1.set_ylim(0,120)\n",
        "#ax1.set_xlim(11000,20000)\n",
        "ax2.set_ylabel(\"GigaTons\", color='blue', fontsize=12, fontdict={'font':'serif'})\n",
        "ax2.tick_params(axis=\"y\", labelcolor='blue')\n",
        "ax2.set_ylim(0,-6000)\n",
        "fig.suptitle(\"\", fontsize=20)\n",
        "#fig.autofmt_xdate()\n",
        "ax1.legend(bbox_to_anchor=(1.5,.435),loc='lower right',prop={'weight':'bold','size':10,'family':'serif'}, frameon=False)\n",
        "ax2.legend(bbox_to_anchor=(1.5,.47),loc='lower right',prop={'weight':'bold','size':10,'family':'serif'}, frameon=False)\n",
        "sns.despine(bottom = False, left = False)\n",
        "fig.suptitle(\"Size of Glaciers Are Rapidly Decreasing Since 2002\", fontsize=16, font = 'serif', color='#000000',y = .96)\n",
        "ax2.text(11250,-6150,\"Greenland's Glaciers Have Melted at a Higher Rate than Antartica's Glaciers\",\n",
        "        fontdict={ 'size':18,'family':'Helvetica'}, color=\"#D55E00\", alpha = 1)\n",
        "ax2.text(15800,-1000,\"Approx 146 GigaTons/year\",\n",
        "      fontdict={ 'size':12,'family':'serif'}, alpha = .7, color= 'blue')\n",
        "ax2.text(16800,-3500,\"Approx 270 GigaTons/year\",\n",
        "        fontdict={ 'size':12,'family':'serif'}, alpha = .7, color = 'black')\n",
        "plt.show()"
      ]
    },
    {
      "cell_type": "code",
      "execution_count": null,
      "metadata": {
        "id": "mhYBrPX0_Zyg"
      },
      "outputs": [],
      "source": []
    },
    {
      "cell_type": "code",
      "execution_count": null,
      "metadata": {
        "id": "XvcP0a05_Zyh"
      },
      "outputs": [],
      "source": []
    },
    {
      "cell_type": "code",
      "execution_count": null,
      "metadata": {
        "id": "kF51d711_Zyh"
      },
      "outputs": [],
      "source": []
    },
    {
      "cell_type": "code",
      "execution_count": null,
      "metadata": {
        "id": "vKm-man9_Zyh"
      },
      "outputs": [],
      "source": []
    },
    {
      "cell_type": "code",
      "execution_count": null,
      "metadata": {
        "id": "_tcjyxJV_Zyh"
      },
      "outputs": [],
      "source": []
    },
    {
      "cell_type": "code",
      "execution_count": null,
      "metadata": {
        "id": "FQz3oDBM_Zyh"
      },
      "outputs": [],
      "source": []
    },
    {
      "cell_type": "code",
      "execution_count": null,
      "metadata": {
        "id": "75U7jri__Zyh"
      },
      "outputs": [],
      "source": []
    },
    {
      "cell_type": "code",
      "execution_count": null,
      "metadata": {
        "id": "JFK4V32Z_Zyh"
      },
      "outputs": [],
      "source": []
    },
    {
      "cell_type": "code",
      "execution_count": null,
      "metadata": {
        "id": "Faj8pFMN_Zyh"
      },
      "outputs": [],
      "source": []
    },
    {
      "cell_type": "markdown",
      "metadata": {
        "id": "x5CqBJ00_Zyh"
      },
      "source": [
        "## Floods"
      ]
    },
    {
      "cell_type": "code",
      "execution_count": null,
      "metadata": {
        "id": "JpDSsfv8_Zyh"
      },
      "outputs": [],
      "source": [
        "natural_disaster = pd.read_excel(\"Natural Disaster Dataset.xlsx\")"
      ]
    },
    {
      "cell_type": "code",
      "execution_count": null,
      "metadata": {
        "scrolled": true,
        "id": "r0aawUIi_Zyh"
      },
      "outputs": [],
      "source": [
        "natural_disaster"
      ]
    },
    {
      "cell_type": "code",
      "execution_count": null,
      "metadata": {
        "id": "xI1MDUIc_Zyh"
      },
      "outputs": [],
      "source": []
    },
    {
      "cell_type": "code",
      "execution_count": null,
      "metadata": {
        "id": "ik8Vjwpj_Zyh"
      },
      "outputs": [],
      "source": [
        "flood = natural_disaster.loc[natural_disaster['Disaster Type'] =='Flood' ]\n",
        "flood = flood.loc[flood['Disaster Group'] == 'Natural']"
      ]
    },
    {
      "cell_type": "code",
      "execution_count": null,
      "metadata": {
        "id": "m3RWGno2_Zyh"
      },
      "outputs": [],
      "source": [
        "flood = flood.rename(columns={\"DisNo.\": \"Dis\"})"
      ]
    },
    {
      "cell_type": "code",
      "execution_count": null,
      "metadata": {
        "id": "_Cqvhohn_Zyh"
      },
      "outputs": [],
      "source": [
        "flood[['Year','code','location']] = flood.Dis.apply(\n",
        "   lambda x: pd.Series(str(x).split(\"-\")))"
      ]
    },
    {
      "cell_type": "code",
      "execution_count": null,
      "metadata": {
        "id": "xPJITzg1_Zyh"
      },
      "outputs": [],
      "source": [
        "flood_count = flood.groupby(['Year']).size().reset_index(name='counts')"
      ]
    },
    {
      "cell_type": "code",
      "execution_count": null,
      "metadata": {
        "id": "Dv_E3rSR_Zyi"
      },
      "outputs": [],
      "source": [
        "flood_count['Year'] = pd.to_datetime(flood_count.Year, format='%Y')"
      ]
    },
    {
      "cell_type": "code",
      "execution_count": null,
      "metadata": {
        "id": "8qK0uf4C_Zyi"
      },
      "outputs": [],
      "source": [
        "flood_count"
      ]
    },
    {
      "cell_type": "code",
      "execution_count": null,
      "metadata": {
        "id": "jnIlTH-4_Zyi"
      },
      "outputs": [],
      "source": []
    },
    {
      "cell_type": "code",
      "execution_count": null,
      "metadata": {
        "id": "8mdvLtzI_Zyi"
      },
      "outputs": [],
      "source": [
        "fig, ax1 = plt.subplots(figsize=(10, 8))\n",
        "ax2 = ax1.twinx()\n",
        "sns.set_style(\"whitegrid\", {'grid.linestyle': '--'})\n",
        "\n",
        "ax1.plot(temp_final['Year'], temp_final['Land_Ocean_Anomaly'], color='red', lw=.8, label = 'Temperature')\n",
        "ax2.plot(flood_count['Year'], flood_count['counts'], color='blue', lw=1, label = 'Floods')\n",
        "\n",
        "\n",
        "ax1.set_ylabel(\"Temperature Anomaly (°C)\", color='red', fontsize=12, font = 'serif')\n",
        "ax1.tick_params(axis=\"y\", labelcolor='red')\n",
        "\n",
        "ax1.set_ylim(0,3)\n",
        "ax2.set_ylabel(\"Number of Floods\", color='blue', fontsize=12, font = 'serif')\n",
        "ax2.tick_params(axis=\"y\", labelcolor='blue')\n",
        "ax2.set_ylim(0,300)\n",
        "\n",
        "x = flood_count['Year']\n",
        "x_num = dates.date2num(x)\n",
        "trend = np.polyfit(x_num, flood_count['counts'], 1)\n",
        "fit = np.poly1d(trend)\n",
        "x_fit = np.linspace(x_num.min(), x_num.max())\n",
        "plt.plot(dates.num2date(x_fit), fit(x_fit), \"b--\", label = 'Floods Trendline', lw = 2)\n",
        "\n",
        "\n",
        "fig.suptitle(\"Flood Events Are On The Rise as The Flood \\nTrendline For Last 25 Years Shows\", fontsize=16, font = 'serif')\n",
        "#fig.autofmt_xdate()\n",
        "sns.despine(left= True, right = True)\n",
        "plt.xticks(font = 'serif')\n",
        "plt.yticks(font= 'serif')\n",
        "ax1.legend(bbox_to_anchor=(1.285,.47),loc='lower right',prop={'size':10,'family':'serif'}, frameon=False)\n",
        "ax2.legend(bbox_to_anchor=(1.323,.4),loc='lower right',prop={'size':10,'family':'serif'}, frameon=False)\n",
        "\n",
        "plt.show()"
      ]
    },
    {
      "cell_type": "code",
      "execution_count": null,
      "metadata": {
        "id": "ey8_aQvY_Zyi"
      },
      "outputs": [],
      "source": [
        "fig, ax1 = plt.subplots(figsize=(10, 8))\n",
        "ax2 = ax1.twinx()\n",
        "#sns.set_style(\"whitegrid\", {'grid.linestyle': '--'})\n",
        "\n",
        "ax1.plot(temp_final['Year'], temp_final['Land_Temp_Anomaly'], color='red', lw=2, label = 'Land Temperature')\n",
        "#ax2.plot(hurricane['Year'], hurricane['Named Storms'], color='green', lw=2, label = 'Named Storms')\n",
        "#ax2.plot(hurricane['Year'], hurricane['Hurricanes'], color='blue', alpha = 1,lw=2, label = 'Hurricanes')\n",
        "\n",
        "\n",
        "\n",
        "ax2.plot(tornado_df['Date'], tornado_df['Tornadoes'], color='black',alpha = 1, lw=2, label = 'Tornadoes')\n",
        "plt.xticks(font = 'serif')\n",
        "\n",
        "x = tornado_df['Date']\n",
        "x_num = dates.date2num(x)\n",
        "trend = np.polyfit(x_num, tornado_df['Tornadoes'], 1)\n",
        "fit = np.poly1d(trend)\n",
        "x_fit = np.linspace(x_num.min(), x_num.max())\n",
        "plt.plot(dates.num2date(x_fit), fit(x_fit), \"k--\", label = 'Tornado Trendline')\n",
        "\n",
        "\n",
        "ax1.set_ylabel(\"Temperature Anomaly (Celsius °)\", color='red', fontsize=12, fontdict={'font':'serif'})\n",
        "ax1.tick_params(axis=\"y\", labelcolor='red', size = 12)\n",
        "ax1.set_ylim(0,4)\n",
        "ax2.set_ylabel(\"Number of Cat 3+ Hurricanes\", color='black', fontsize=12, fontdict={'font':'serif'})\n",
        "ax2.tick_params(axis=\"y\", labelcolor='black')\n",
        "ax2.set_ylim(0,1900)\n",
        "fig.suptitle(\"\", fontsize=20)\n",
        "#fig.autofmt_xdate()\n",
        "ax1.legend(bbox_to_anchor=(1.4,.47),loc='lower right',prop={'weight':'bold','size':10,'family':'serif'}, frameon=False)\n",
        "ax2.legend(bbox_to_anchor=(1.4,.4),loc='lower right',prop={'weight':'bold','size':10,'family':'serif'}, frameon=False)\n",
        "sns.despine(bottom = False, left = False)\n",
        "fig.suptitle(\"Number of Tornadoes in the U.S.\", fontsize=16, font = 'serif', y = 1)\n",
        "ax1.text(10000,4.3,\"Frequency of Tornadoes Influenced by Increase in Temperature\",\n",
        "       fontdict={ 'size':14,'family':'serif'}, alpha = .7)\n",
        "plt.show()"
      ]
    },
    {
      "cell_type": "code",
      "execution_count": null,
      "metadata": {
        "id": "SAqaCVcT_Zyi"
      },
      "outputs": [],
      "source": []
    },
    {
      "cell_type": "code",
      "execution_count": null,
      "metadata": {
        "id": "kyfJP6PK_Zyi"
      },
      "outputs": [],
      "source": []
    },
    {
      "cell_type": "code",
      "execution_count": null,
      "metadata": {
        "id": "3eQh4YKd_Zyi"
      },
      "outputs": [],
      "source": []
    },
    {
      "cell_type": "code",
      "execution_count": null,
      "metadata": {
        "id": "B7yjDzfY_Zyi"
      },
      "outputs": [],
      "source": []
    },
    {
      "cell_type": "markdown",
      "metadata": {
        "id": "vti6_E_P_Zyi"
      },
      "source": [
        "## Tornadoes"
      ]
    },
    {
      "cell_type": "code",
      "execution_count": null,
      "metadata": {
        "id": "-Bgmm3LU_Zyi"
      },
      "outputs": [],
      "source": [
        "tornado_df = pd.read_excel(\"Tornado Dataset.xlsx\")"
      ]
    },
    {
      "cell_type": "code",
      "execution_count": null,
      "metadata": {
        "id": "vd-f61mm_Zyi"
      },
      "outputs": [],
      "source": [
        "tornado_df.info()"
      ]
    },
    {
      "cell_type": "code",
      "execution_count": null,
      "metadata": {
        "id": "liljk6WB_Zyi"
      },
      "outputs": [],
      "source": [
        "tornado_df['Date'] = pd.to_datetime(tornado_df.Date, format='%Y')"
      ]
    },
    {
      "cell_type": "code",
      "execution_count": null,
      "metadata": {
        "id": "al4C0uGl_Zyi"
      },
      "outputs": [],
      "source": [
        "tornado_df = tornado_df.loc[tornado_df[\"Date\"] > \"1996-01-01\"]"
      ]
    },
    {
      "cell_type": "code",
      "execution_count": null,
      "metadata": {
        "id": "WrLRSMUG_Zyi"
      },
      "outputs": [],
      "source": [
        "fig, ax1 = plt.subplots(figsize=(10, 8))\n",
        "ax2 = ax1.twinx()\n",
        "#sns.set_style(\"whitegrid\", {'grid.linestyle': '--'})\n",
        "\n",
        "ax1.plot(temp_final['Year'], temp_final['Land_Temp_Anomaly'], color='red', lw=2, label = 'Land Temperature')\n",
        "#ax2.plot(hurricane['Year'], hurricane['Named Storms'], color='green', lw=2, label = 'Named Storms')\n",
        "#ax2.plot(hurricane['Year'], hurricane['Hurricanes'], color='blue', alpha = 1,lw=2, label = 'Hurricanes')\n",
        "\n",
        "\n",
        "\n",
        "ax2.plot(tornado_df['Date'], tornado_df['Tornadoes'], color='black',alpha = 1, lw=2, label = 'Tornadoes')\n",
        "plt.xticks(font = 'serif')\n",
        "\n",
        "x = tornado_df['Date']\n",
        "x_num = dates.date2num(x)\n",
        "trend = np.polyfit(x_num, tornado_df['Tornadoes'], 1)\n",
        "fit = np.poly1d(trend)\n",
        "x_fit = np.linspace(x_num.min(), x_num.max())\n",
        "plt.plot(dates.num2date(x_fit), fit(x_fit), \"k--\", label = 'Tornado Trendline')\n",
        "\n",
        "\n",
        "ax1.set_ylabel(\"Land Temperature Anomaly (°C)\", color='red', fontsize=12, fontdict={'font':'serif'})\n",
        "ax1.tick_params(axis=\"y\", labelcolor='red', size = 12)\n",
        "ax1.set_ylim(0,4)\n",
        "ax2.set_ylabel(\"Number of Tornadoes\", color='black', fontsize=12, fontdict={'font':'serif'})\n",
        "ax1.set_xlabel(\"Year\", color='black', fontsize=12, fontdict={'font':'serif'})\n",
        "ax2.tick_params(axis=\"y\", labelcolor='black')\n",
        "ax2.set_ylim(0,1900)\n",
        "fig.suptitle(\"\", fontsize=20)\n",
        "#fig.autofmt_xdate()\n",
        "ax1.legend(bbox_to_anchor=(1.4,.47),loc='lower right',prop={'weight':'bold','size':10,'family':'serif'}, frameon=False)\n",
        "ax2.legend(bbox_to_anchor=(1.4,.4),loc='lower right',prop={'weight':'bold','size':10,'family':'serif'}, frameon=False)\n",
        "sns.despine(bottom = False, left = False)\n",
        "fig.suptitle(\"Number of Tornadoes in the U.S. and Land Temperature\", fontsize=16, font = 'serif', color=\"#000000\", y = 1)\n",
        "ax1.text(10000,4.3,\"Frequency of Tornadoes Influenced by Increase in Land Temperature\",\n",
        "       fontdict={ 'size':17,'family':'Helvetica'}, color=\"purple\", alpha = 1)\n",
        "plt.show()"
      ]
    },
    {
      "cell_type": "code",
      "execution_count": null,
      "metadata": {
        "id": "hxNRUl1A_Zyi"
      },
      "outputs": [],
      "source": []
    },
    {
      "cell_type": "code",
      "execution_count": null,
      "metadata": {
        "id": "s5w4QHwm_Zyi"
      },
      "outputs": [],
      "source": []
    },
    {
      "cell_type": "code",
      "execution_count": null,
      "metadata": {
        "id": "Vej6qUE0_Zyj"
      },
      "outputs": [],
      "source": []
    },
    {
      "cell_type": "code",
      "execution_count": null,
      "metadata": {
        "id": "yZl4TK1C_Zyj"
      },
      "outputs": [],
      "source": []
    },
    {
      "cell_type": "code",
      "execution_count": null,
      "metadata": {
        "id": "G_Ys87xh_Zyj"
      },
      "outputs": [],
      "source": []
    },
    {
      "cell_type": "markdown",
      "metadata": {
        "id": "PWTMlcU__Zyj"
      },
      "source": [
        "## Wildfire"
      ]
    },
    {
      "cell_type": "code",
      "execution_count": null,
      "metadata": {
        "id": "XLOScDuo_Zyj"
      },
      "outputs": [],
      "source": [
        "wildfire_df = pd.read_csv(\"US Wildfire Data - Sheet1.csv\")"
      ]
    },
    {
      "cell_type": "code",
      "execution_count": null,
      "metadata": {
        "id": "95hBtZWF_Zyj"
      },
      "outputs": [],
      "source": [
        "wildfire_df"
      ]
    },
    {
      "cell_type": "code",
      "execution_count": null,
      "metadata": {
        "id": "f67QRVq7_Zyj"
      },
      "outputs": [],
      "source": [
        "wildfire_df = wildfire_df.loc[wildfire_df[\"Year\"] > 1996]"
      ]
    },
    {
      "cell_type": "code",
      "execution_count": null,
      "metadata": {
        "id": "j_-zs5R1_Zyj"
      },
      "outputs": [],
      "source": [
        "wildfire_df['Year'] = pd.to_datetime(wildfire_df.Year, format='%Y')"
      ]
    },
    {
      "cell_type": "code",
      "execution_count": null,
      "metadata": {
        "scrolled": true,
        "id": "tySF6MtE_Zyj"
      },
      "outputs": [],
      "source": [
        "wildfire_df.replace(',', '', regex=True, inplace=True)"
      ]
    },
    {
      "cell_type": "code",
      "execution_count": null,
      "metadata": {
        "id": "WvBB62if_Zyj"
      },
      "outputs": [],
      "source": [
        "wildfire_df = wildfire_df.astype({'Fires': 'int', 'Acres': 'int'})"
      ]
    },
    {
      "cell_type": "code",
      "execution_count": null,
      "metadata": {
        "id": "4aAK5bXX_Zyj"
      },
      "outputs": [],
      "source": [
        "wildfire_df"
      ]
    },
    {
      "cell_type": "code",
      "execution_count": null,
      "metadata": {
        "id": "C3VTklY9_Zyj"
      },
      "outputs": [],
      "source": []
    },
    {
      "cell_type": "code",
      "execution_count": null,
      "metadata": {
        "id": "yvNr_fgT_Zyj"
      },
      "outputs": [],
      "source": [
        "temp_final['Land_Temp_Anomaly'].max()"
      ]
    },
    {
      "cell_type": "code",
      "execution_count": null,
      "metadata": {
        "id": "xBiy8Dw1_Zyj"
      },
      "outputs": [],
      "source": [
        "fig, ax1 = plt.subplots(figsize=(10, 8))\n",
        "ax2 = ax1.twinx()\n",
        "#sns.set_style(\"whitegrid\", {'grid.linestyle': '--'})\n",
        "\n",
        "ax1.plot(temp_final['Year'], temp_final['Land_Temp_Anomaly'], color='red', lw=2, label = 'Temperature')\n",
        "#ax2.plot(hurricane['Year'], hurricane['Named Storms'], color='green', lw=2, label = 'Named Storms')\n",
        "#ax2.plot(hurricane['Year'], hurricane['Hurricanes'], color='blue', alpha = 1,lw=2, label = 'Hurricanes')\n",
        "\n",
        "\n",
        "\n",
        "ax2.plot(wildfire_df['Year'], wildfire_df['Fires'], color='black',alpha = 1, lw=2, label = 'Number of Wildfires')\n",
        "plt.xticks(font = 'serif')\n",
        "\n",
        "x = wildfire_df['Year']\n",
        "x_num = dates.date2num(x)\n",
        "trend = np.polyfit(x_num, wildfire_df['Fires'], 1)\n",
        "fit = np.poly1d(trend)\n",
        "x_fit = np.linspace(x_num.min(), x_num.max())\n",
        "#plt.plot(dates.num2date(x_fit), fit(x_fit), \"k--\", label = 'ACE Trendline')\n",
        "\n",
        "\n",
        "ax1.set_ylabel(\"Temperature Anomaly (Celsius °)\", color='red', fontsize=12, fontdict={'font':'serif'})\n",
        "ax1.tick_params(axis=\"y\", labelcolor='red', size = 12)\n",
        "ax1.set_ylim(0,2)\n",
        "ax2.set_ylabel(\"Number of Cat 3+ Hurricanes\", color='black', fontsize=12, fontdict={'font':'serif'})\n",
        "ax1.set_xlabel(\"Year\", color='black', fontsize=12, fontdict={'font':'serif'})\n",
        "ax2.tick_params(axis=\"y\", labelcolor='black')\n",
        "ax2.set_ylim(0,100000)\n",
        "fig.suptitle(\"\", fontsize=20)\n",
        "#fig.autofmt_xdate()\n",
        "ax1.legend(bbox_to_anchor=(1.33,.47),loc='lower right',prop={'weight':'bold','size':10,'family':'serif'}, frameon=False)\n",
        "ax2.legend(bbox_to_anchor=(1.4,.4),loc='lower right',prop={'weight':'bold','size':10,'family':'serif'}, frameon=False)\n",
        "sns.despine(bottom = False, left = False)\n",
        "fig.suptitle(\"Number of Wildfires and Land Temperature\", fontsize=16, font = 'serif', color=\"#000000\", y = .98)\n",
        "ax1.text(9900,2.1,\"Frequency of Wildfires are Increasingly Connected with Temperature Rise\",\n",
        "       fontdict={ 'size':16,'family':'Helvetica'}, color=\"midnightblue\", alpha = 1)\n",
        "plt.show()"
      ]
    },
    {
      "cell_type": "code",
      "execution_count": null,
      "metadata": {
        "id": "o-GUgiXZ_Zyj"
      },
      "outputs": [],
      "source": [
        "fig, ax1 = plt.subplots(figsize=(10, 8))\n",
        "ax2 = ax1.twinx()\n",
        "#sns.set_style(\"whitegrid\", {'grid.linestyle': '--'})\n",
        "\n",
        "ax1.plot(temp_final['Year'], temp_final['Land_Temp_Anomaly'], color='red', lw=2, label = 'Land Temperature')\n",
        "#ax2.plot(hurricane['Year'], hurricane['Named Storms'], color='green', lw=2, label = 'Named Storms')\n",
        "#ax2.plot(hurricane['Year'], hurricane['Hurricanes'], color='blue', alpha = 1,lw=2, label = 'Hurricanes')\n",
        "\n",
        "\n",
        "\n",
        "ax2.plot(wildfire_df['Year'], wildfire_df['Acres'], color='black',alpha = 1, lw=2, label = 'Acres')\n",
        "plt.xticks(font = 'serif')\n",
        "\n",
        "x = wildfire_df['Year']\n",
        "x_num = dates.date2num(x)\n",
        "trend = np.polyfit(x_num, wildfire_df['Acres'], 1)\n",
        "fit = np.poly1d(trend)\n",
        "x_fit = np.linspace(x_num.min(), x_num.max())\n",
        "plt.plot(dates.num2date(x_fit), fit(x_fit), \"k--\", label = 'Acres Trendline')\n",
        "\n",
        "\n",
        "ax1.set_ylabel(\"Land Temperature Anomaly (°C)\", color='red', fontsize=12, fontdict={'font':'serif'})\n",
        "ax1.tick_params(axis=\"y\", labelcolor='red', size = 12)\n",
        "ax1.set_ylim(0,2)\n",
        "ax2.set_ylabel(\"Acres Affected\", color='black', fontsize=12, fontdict={'font':'serif'})\n",
        "ax1.set_xlabel(\"Year\", color='black', fontsize=12, fontdict={'font':'serif'})\n",
        "ax2.tick_params(axis=\"y\", labelcolor='black')\n",
        "ax2.set_ylim(0,12000000)\n",
        "fig.suptitle(\"\", fontsize=20)\n",
        "#fig.autofmt_xdate()\n",
        "ax1.legend(bbox_to_anchor=(1.33,.47),loc='lower right',prop={'weight':'bold','size':10,'family':'serif'}, frameon=False)\n",
        "ax2.legend(bbox_to_anchor=(1.3,.4),loc='lower right',prop={'weight':'bold','size':10,'family':'serif'}, frameon=False)\n",
        "sns.despine(bottom = False, left = False)\n",
        "fig.suptitle(\"Land Temperature and Acres of U.S. Land Affected by WildFires\", fontsize=16, font = 'serif', color=\"#000000\", y = .98)\n",
        "ax1.text(9900,2.1,\"Amount of Acres Affected Connected with Land Temperature\",\n",
        "       fontdict={ 'size':16,'family':'Helvetica'}, color=\"midnightblue\", alpha = 1)\n",
        "plt.show()"
      ]
    },
    {
      "cell_type": "code",
      "execution_count": null,
      "metadata": {
        "id": "VAL7Qrx-_Zyk"
      },
      "outputs": [],
      "source": []
    },
    {
      "cell_type": "code",
      "execution_count": null,
      "metadata": {
        "id": "MuzoJsX3_Zyk"
      },
      "outputs": [],
      "source": []
    },
    {
      "cell_type": "code",
      "execution_count": null,
      "metadata": {
        "id": "QMT4aZum_Zyk"
      },
      "outputs": [],
      "source": []
    },
    {
      "cell_type": "markdown",
      "metadata": {
        "id": "VYRSx3XJ_Zyk"
      },
      "source": [
        "## References"
      ]
    },
    {
      "cell_type": "markdown",
      "metadata": {
        "id": "8keMBktH_Zyk"
      },
      "source": [
        "https://www.nasa.gov/stem-content/antarctic-ice-mass-data-set/"
      ]
    },
    {
      "cell_type": "markdown",
      "metadata": {
        "id": "vGaVz88L_Zyk"
      },
      "source": [
        "https://tropical.atmos.colostate.edu/Realtime/index.php?arch&loc=global"
      ]
    },
    {
      "cell_type": "markdown",
      "metadata": {
        "id": "PZGkv4Ta_Zyk"
      },
      "source": [
        "https://www.nifc.gov/fire-information/statistics/wildfires"
      ]
    },
    {
      "cell_type": "markdown",
      "metadata": {
        "id": "8QzTmlP7_Zyk"
      },
      "source": [
        "https://www.statista.com/statistics/276629/global-co2-emissions/#:~:text=Global%20carbon%20dioxide%20emissions%20from,by%20more%20than%2060%20percent"
      ]
    },
    {
      "cell_type": "markdown",
      "metadata": {
        "id": "osiwoUyF_Zyk"
      },
      "source": [
        "https://climate.nasa.gov/vital-signs/carbon-dioxide/"
      ]
    },
    {
      "cell_type": "markdown",
      "metadata": {
        "id": "sS9X62mU_Zyk"
      },
      "source": [
        "https://climate.nasa.gov/vital-signs/global-temperature/"
      ]
    },
    {
      "cell_type": "markdown",
      "metadata": {
        "id": "mWzDdGGp_Zyk"
      },
      "source": [
        "https://gml.noaa.gov/ccgg/trends/gl_gr.html"
      ]
    },
    {
      "cell_type": "markdown",
      "metadata": {
        "id": "2Iz64LN8_Zyk"
      },
      "source": [
        "https://www.emdat.be/"
      ]
    },
    {
      "cell_type": "markdown",
      "metadata": {
        "id": "Dd_d_GDs_Zyk"
      },
      "source": [
        "https://www.nasa.gov/stem-content/sea-level-height-data-set/"
      ]
    },
    {
      "cell_type": "markdown",
      "metadata": {
        "id": "QN5Q7nsg_Zyk"
      },
      "source": []
    },
    {
      "cell_type": "markdown",
      "metadata": {
        "id": "z7_WxAko_Zyk"
      },
      "source": []
    },
    {
      "cell_type": "markdown",
      "metadata": {
        "id": "gZKNSQNj_Zyk"
      },
      "source": []
    }
  ],
  "metadata": {
    "kernelspec": {
      "display_name": "learn-env",
      "language": "python",
      "name": "learn-env"
    },
    "language_info": {
      "codemirror_mode": {
        "name": "ipython",
        "version": 3
      },
      "file_extension": ".py",
      "mimetype": "text/x-python",
      "name": "python",
      "nbconvert_exporter": "python",
      "pygments_lexer": "ipython3",
      "version": "3.8.5"
    },
    "latex_envs": {
      "LaTeX_envs_menu_present": true,
      "autoclose": false,
      "autocomplete": true,
      "bibliofile": "biblio.bib",
      "cite_by": "apalike",
      "current_citInitial": 1,
      "eqLabelWithNumbers": true,
      "eqNumInitial": 1,
      "hotkeys": {
        "equation": "Ctrl-E",
        "itemize": "Ctrl-I"
      },
      "labels_anchors": false,
      "latex_user_defs": false,
      "report_style_numbering": false,
      "user_envs_cfg": false
    },
    "toc": {
      "base_numbering": 1,
      "nav_menu": {},
      "number_sections": false,
      "sideBar": true,
      "skip_h1_title": false,
      "title_cell": "Table of Contents",
      "title_sidebar": "Contents",
      "toc_cell": false,
      "toc_position": {
        "height": "603px",
        "left": "30px",
        "top": "148px",
        "width": "288px"
      },
      "toc_section_display": true,
      "toc_window_display": true
    },
    "colab": {
      "provenance": [],
      "include_colab_link": true
    }
  },
  "nbformat": 4,
  "nbformat_minor": 0
}